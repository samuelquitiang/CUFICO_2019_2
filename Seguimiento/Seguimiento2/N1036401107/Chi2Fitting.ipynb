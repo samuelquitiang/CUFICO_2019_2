{
  "nbformat": 4,
  "nbformat_minor": 0,
  "metadata": {
    "colab": {
      "name": "Chi2Fitting.ipynb",
      "provenance": [],
      "collapsed_sections": [],
      "include_colab_link": true
    },
    "kernelspec": {
      "name": "python3",
      "display_name": "Python 3"
    }
  },
  "cells": [
    {
      "cell_type": "markdown",
      "metadata": {
        "id": "view-in-github",
        "colab_type": "text"
      },
      "source": [
        "<a href=\"https://colab.research.google.com/github/elime920/CUFICO_2019_2/blob/master/Chi2Fitting.ipynb\" target=\"_parent\"><img src=\"https://colab.research.google.com/assets/colab-badge.svg\" alt=\"Open In Colab\"/></a>"
      ]
    },
    {
      "cell_type": "markdown",
      "metadata": {
        "id": "l2Kx9iqQ4ToX",
        "colab_type": "text"
      },
      "source": [
        "# With this notebook we will:\n",
        "## 1. Install packages needed for root\n",
        "## 2. Download a binary root that compiled in google drive \"colaboratory\" environement\n",
        "## 3. Modify the PATH in order to tell python where to look for pyROOT\n",
        "## 4. Finally, test ROOT installation with a simple example\n",
        "\n",
        "##### Author: Jose Ruiz\n",
        "##### Maintainer: Jose Ruiz\n",
        "##### Developed at: Universidad de Antioquia\n"
      ]
    },
    {
      "cell_type": "markdown",
      "metadata": {
        "id": "C1gPEaTg6fLl",
        "colab_type": "text"
      },
      "source": [
        "### 1. Install packages needed for root"
      ]
    },
    {
      "cell_type": "code",
      "metadata": {
        "id": "gYEA4UKNplb6",
        "colab_type": "code",
        "outputId": "0278d382-ad2d-4b6f-af75-ad93f121e5ef",
        "colab": {
          "base_uri": "https://localhost:8080/",
          "height": 318
        }
      },
      "source": [
        "!apt-get install git dpkg-dev cmake g++ gcc binutils libx11-dev libxpm-dev libxft-dev libxext-dev tar gfortran subversion"
      ],
      "execution_count": 0,
      "outputs": [
        {
          "output_type": "stream",
          "text": [
            "\rReading package lists... 0%\r\rReading package lists... 0%\r\rReading package lists... 0%\r\rReading package lists... 7%\r\rReading package lists... 7%\r\rReading package lists... 7%\r\rReading package lists... 7%\r\rReading package lists... 58%\r\rReading package lists... 66%\r\rReading package lists... 66%\r\rReading package lists... 67%\r\rReading package lists... 67%\r\rReading package lists... 73%\r\rReading package lists... 73%\r\rReading package lists... 74%\r\rReading package lists... 74%\r\rReading package lists... 83%\r\rReading package lists... 83%\r\rReading package lists... 83%\r\rReading package lists... 83%\r\rReading package lists... 83%\r\rReading package lists... 83%\r\rReading package lists... 83%\r\rReading package lists... 83%\r\rReading package lists... 87%\r\rReading package lists... 87%\r\rReading package lists... 87%\r\rReading package lists... 87%\r\rReading package lists... 93%\r\rReading package lists... 93%\r\rReading package lists... 93%\r\rReading package lists... 93%\r\rReading package lists... 94%\r\rReading package lists... 94%\r\rReading package lists... 94%\r\rReading package lists... 94%\r\rReading package lists... 95%\r\rReading package lists... 95%\r\rReading package lists... 98%\r\rReading package lists... 98%\r\rReading package lists... 98%\r\rReading package lists... 98%\r\rReading package lists... Done\r\n",
            "\rBuilding dependency tree... 0%\r\rBuilding dependency tree... 0%\r\rBuilding dependency tree... 50%\r\rBuilding dependency tree... 50%\r\rBuilding dependency tree       \r\n",
            "\rReading state information... 0%\r\rReading state information... 0%\r\rReading state information... Done\r\n",
            "libxext-dev is already the newest version (2:1.3.3-1).\n",
            "libxft-dev is already the newest version (2.3.2-1).\n",
            "libxpm-dev is already the newest version (1:3.5.12-1).\n",
            "subversion is already the newest version (1.9.7-4ubuntu1).\n",
            "binutils is already the newest version (2.30-21ubuntu1~18.04.2).\n",
            "cmake is already the newest version (3.10.2-1ubuntu2.18.04.1).\n",
            "dpkg-dev is already the newest version (1.19.0.5ubuntu2.3).\n",
            "g++ is already the newest version (4:7.4.0-1ubuntu2.3).\n",
            "gcc is already the newest version (4:7.4.0-1ubuntu2.3).\n",
            "gfortran is already the newest version (4:7.4.0-1ubuntu2.3).\n",
            "git is already the newest version (1:2.17.1-1ubuntu0.4).\n",
            "libx11-dev is already the newest version (2:1.6.4-3ubuntu0.2).\n",
            "tar is already the newest version (1.29b-2ubuntu0.1).\n",
            "0 upgraded, 0 newly installed, 0 to remove and 33 not upgraded.\n"
          ],
          "name": "stdout"
        }
      ]
    },
    {
      "cell_type": "markdown",
      "metadata": {
        "id": "3i5bTy4x601V",
        "colab_type": "text"
      },
      "source": [
        "### 2. Mount the drive to get the root binary and untar it "
      ]
    },
    {
      "cell_type": "code",
      "metadata": {
        "id": "gMhjqJ9noRcX",
        "colab_type": "code",
        "outputId": "9dd18bc1-f5f0-4bfc-af67-31ababd2ca76",
        "colab": {
          "base_uri": "https://localhost:8080/",
          "height": 34
        }
      },
      "source": [
        "# Load the Drive helper and mount\n",
        "from google.colab import drive\n",
        "\n",
        "# This will prompt for authorization.\n",
        "drive.mount('/content/drive', force_remount=True)"
      ],
      "execution_count": 0,
      "outputs": [
        {
          "output_type": "stream",
          "text": [
            "Mounted at /content/drive\n"
          ],
          "name": "stdout"
        }
      ]
    },
    {
      "cell_type": "code",
      "metadata": {
        "id": "dt2PEUjQo0RY",
        "colab_type": "code",
        "outputId": "09c14873-471f-4aa4-b2da-cb76185054da",
        "colab": {
          "base_uri": "https://localhost:8080/",
          "height": 141
        }
      },
      "source": [
        "# After executing the cell above, Drive\n",
        "# files will be present in \"/content/drive/My Drive\".\n",
        "!ls \"/content/drive/Shared drives/PyROOT_in_Google/\""
      ],
      "execution_count": 0,
      "outputs": [
        {
          "output_type": "stream",
          "text": [
            "BasicAnalysis.ipynb\t  HistogrammingInROOT.ipynb\n",
            "BasicPyROOTExample.ipynb  monje-a-lo-bonzo-blanco-y-negro.png\n",
            "Chi2Fitting.ipynb\t  piano-C5.wav\n",
            "Data5.root\t\t  Random2DHistos\n",
            "FFT_imagen.ipynb\t  root_build_google_yikes.tar\n",
            "FFT.ipynb\t\t  TrimmedTree.root\n",
            "FLUTEMI.WAV\t\t  TTreeExcercise.ipynb\n"
          ],
          "name": "stdout"
        }
      ]
    },
    {
      "cell_type": "code",
      "metadata": {
        "id": "tRQGlQ4Hqau9",
        "colab_type": "code",
        "colab": {}
      },
      "source": [
        "!tar -xf /content/drive/Shared\\ drives/PyROOT_in_Google/root_build_google_yikes.tar"
      ],
      "execution_count": 0,
      "outputs": []
    },
    {
      "cell_type": "code",
      "metadata": {
        "id": "DfLQ4DrprjLU",
        "colab_type": "code",
        "outputId": "a138a166-72fa-4163-a439-dfd1e9aa9994",
        "colab": {
          "base_uri": "https://localhost:8080/",
          "height": 87
        }
      },
      "source": [
        "!ls -ltrh"
      ],
      "execution_count": 0,
      "outputs": [
        {
          "output_type": "stream",
          "text": [
            "total 12K\n",
            "drwxr-xr-x 44 root root 4.0K Sep 20  2018 root_build\n",
            "drwxr-xr-x  1 root root 4.0K Nov  6 16:17 sample_data\n",
            "drwx------  4 root root 4.0K Nov  8 02:14 drive\n"
          ],
          "name": "stdout"
        }
      ]
    },
    {
      "cell_type": "markdown",
      "metadata": {
        "id": "1nHFk9y68VVP",
        "colab_type": "text"
      },
      "source": [
        "\n",
        "### 3. Modify the PATH in order to tell python where to look for pyROOT\n"
      ]
    },
    {
      "cell_type": "code",
      "metadata": {
        "id": "N3ndoY6iu6_J",
        "colab_type": "code",
        "colab": {}
      },
      "source": [
        "import sys\n",
        "sys.path.append(\"/content/root_build/\")\n",
        "sys.path.append(\"/content/root_build/bin/\")\n",
        "sys.path.append(\"/content/root_build/include/\")\n",
        "sys.path.append(\"/content/root_build/lib/\")"
      ],
      "execution_count": 0,
      "outputs": []
    },
    {
      "cell_type": "code",
      "metadata": {
        "id": "lTFxGdo6v-vn",
        "colab_type": "code",
        "colab": {}
      },
      "source": [
        "import ROOT"
      ],
      "execution_count": 0,
      "outputs": []
    },
    {
      "cell_type": "code",
      "metadata": {
        "id": "vjAXfvIGaE3W",
        "colab_type": "code",
        "colab": {}
      },
      "source": [
        "BackgroundModel = ROOT.TH1F( 'bkg', 'My background model', 20, 50, 1050 )"
      ],
      "execution_count": 0,
      "outputs": []
    },
    {
      "cell_type": "code",
      "metadata": {
        "id": "K5Q84Rog8-Uu",
        "colab_type": "code",
        "colab": {}
      },
      "source": [
        "expde = ROOT.TF1(\"expde\",\"([2]*expo)+[3]\",50,1050)\n",
        "expde.SetParameters(0.0,-0.005,100,0.0);"
      ],
      "execution_count": 0,
      "outputs": []
    },
    {
      "cell_type": "code",
      "metadata": {
        "id": "pz0QdzoJgchK",
        "colab_type": "code",
        "colab": {}
      },
      "source": [
        "BackgroundModel.FillRandom(\"expde\",100000)"
      ],
      "execution_count": 0,
      "outputs": []
    },
    {
      "cell_type": "code",
      "metadata": {
        "id": "TFR5T97ScgnG",
        "colab_type": "code",
        "outputId": "77508047-ff12-4ee4-a069-2be0a22bf354",
        "colab": {
          "base_uri": "https://localhost:8080/",
          "height": 906
        }
      },
      "source": [
        "c1 = ROOT.TCanvas( 'c1', 'My First Data example', 200, 10, 700, 900 )\n",
        "c1.SetFillColor( 18 )\n",
        "BackgroundModel.Draw('E')\n",
        "c1.Update()\n",
        "from ROOT import gROOT \n",
        "gROOT.GetListOfCanvases().Draw()"
      ],
      "execution_count": 0,
      "outputs": [
        {
          "output_type": "stream",
          "text": [
            "Warning in <TCanvas::Constructor>: Deleting canvas with same name: c1\n"
          ],
          "name": "stderr"
        },
        {
          "output_type": "display_data",
          "data": {
            "image/png": "[encoded data removed]",
            "text/plain": [
              "<IPython.core.display.Image object>"
            ]
          },
          "metadata": {
            "tags": []
          }
        }
      ]
    },
    {
      "cell_type": "code",
      "metadata": {
        "id": "pg5NPkDCkMH_",
        "colab_type": "code",
        "colab": {}
      },
      "source": [
        "SignalModel = ROOT.TH1F( 'sig', 'My signal model', 20, 50, 1050 )"
      ],
      "execution_count": 0,
      "outputs": []
    },
    {
      "cell_type": "code",
      "metadata": {
        "id": "qmKR6xLioJOa",
        "colab_type": "code",
        "colab": {}
      },
      "source": [
        "signal = ROOT.TF1(\"signal\", \"gaus\", 50, 1050)\n",
        "signal.SetParameters(1.0,500.0,50.0)"
      ],
      "execution_count": 0,
      "outputs": []
    },
    {
      "cell_type": "code",
      "metadata": {
        "id": "GVkfu7jokvuf",
        "colab_type": "code",
        "colab": {}
      },
      "source": [
        "SignalModel.FillRandom(\"signal\",1000)"
      ],
      "execution_count": 0,
      "outputs": []
    },
    {
      "cell_type": "code",
      "metadata": {
        "id": "APOzMnsnk_En",
        "colab_type": "code",
        "outputId": "f02e5e43-d1b0-44af-cc08-679fea9bd1ee",
        "colab": {
          "base_uri": "https://localhost:8080/",
          "height": 888
        }
      },
      "source": [
        "SignalModel.Draw('same E')\n",
        "SignalModel.SetLineColor(2)\n",
        "c1.Update()\n",
        "gROOT.GetListOfCanvases().Draw()"
      ],
      "execution_count": 0,
      "outputs": [
        {
          "output_type": "display_data",
          "data": {
            "image/png": "[encoded data removed]",
            "text/plain": [
              "<IPython.core.display.Image object>"
            ]
          },
          "metadata": {
            "tags": []
          }
        }
      ]
    },
    {
      "cell_type": "code",
      "metadata": {
        "id": "SfKoRpW0miiA",
        "colab_type": "code",
        "colab": {}
      },
      "source": [
        "BkgpSigModel = BackgroundModel.Clone(\"bkgpsig\")"
      ],
      "execution_count": 0,
      "outputs": []
    },
    {
      "cell_type": "code",
      "metadata": {
        "id": "Tf7PRDzKmrh_",
        "colab_type": "code",
        "outputId": "ea57acc8-6070-4fe0-f9ce-06df4213a30e",
        "colab": {
          "base_uri": "https://localhost:8080/",
          "height": 35
        }
      },
      "source": [
        "BkgpSigModel.Sumw2()\n",
        "BkgpSigModel.Add(SignalModel,10)"
      ],
      "execution_count": 0,
      "outputs": [
        {
          "output_type": "execute_result",
          "data": {
            "text/plain": [
              "True"
            ]
          },
          "metadata": {
            "tags": []
          },
          "execution_count": 46
        }
      ]
    },
    {
      "cell_type": "code",
      "metadata": {
        "id": "FKgIQBuJehRQ",
        "colab_type": "code",
        "outputId": "6d468322-afb0-4e4d-e80b-f152807e1914",
        "colab": {
          "base_uri": "https://localhost:8080/",
          "height": 889
        }
      },
      "source": [
        "BkgpSigModel.SetLineColor(40)\n",
        "BackgroundModel.Draw(\"E\")\n",
        "SignalModel.Draw(\"E same\")\n",
        "BkgpSigModel.Draw(\"E same\")\n",
        "c1.Update()\n",
        "gROOT.GetListOfCanvases().Draw()"
      ],
      "execution_count": 0,
      "outputs": [
        {
          "output_type": "display_data",
          "data": {
            "image/png": "[encoded data removed]",
            "text/plain": [
              "<IPython.core.display.Image object>"
            ]
          },
          "metadata": {
            "tags": []
          }
        }
      ]
    },
    {
      "cell_type": "code",
      "metadata": {
        "id": "6mI8eqh9NLLR",
        "colab_type": "code",
        "colab": {}
      },
      "source": [
        "DataFile = ROOT.TFile(\"/content/drive/Shared drives/PyROOT_in_Google/Data5.root\",\"read\")"
      ],
      "execution_count": 0,
      "outputs": []
    },
    {
      "cell_type": "code",
      "metadata": {
        "id": "NRoIGA82NVsI",
        "colab_type": "code",
        "colab": {}
      },
      "source": [
        "DataHisto=DataFile.Get('data')"
      ],
      "execution_count": 0,
      "outputs": []
    },
    {
      "cell_type": "code",
      "metadata": {
        "id": "MG3ui5o4NnWP",
        "colab_type": "code",
        "outputId": "16c86247-c504-4ebe-81ee-fd914f8586b0",
        "colab": {
          "base_uri": "https://localhost:8080/",
          "height": 888
        }
      },
      "source": [
        "DataHisto.Draw(\"E\")\n",
        "c1.Update()\n",
        "gROOT.GetListOfCanvases().Draw()"
      ],
      "execution_count": 0,
      "outputs": [
        {
          "output_type": "display_data",
          "data": {
            "image/png": "[encoded data removed]",
            "text/plain": [
              "<IPython.core.display.Image object>"
            ]
          },
          "metadata": {
            "tags": []
          }
        }
      ]
    },
    {
      "cell_type": "code",
      "metadata": {
        "id": "7JvopVtTQl5_",
        "colab_type": "code",
        "colab": {}
      },
      "source": [
        "# Variar miu y calcular X^2 para cada miu.\n",
        "# Encontrar miu que describa mejor los datos.\n",
        "\n",
        "import numpy as np\n",
        "import matplotlib.pyplot as plt\n",
        "\n",
        "miu = np.linspace(0,10,1000)\n",
        "X = np.zeros_like(miu)\n",
        "i= 0\n",
        "for i in miu:\n",
        "  BkgpSigModel = BackgroundModel.Clone(\"bkgpsig\")\n",
        "  BkgpSigModel.Sumw2()\n",
        "  BkgpSigModel.Add(SignalModel,i)\n",
        "\n",
        "  x = 0\n",
        "\n",
        "  for j in range(1,DataHisto.GetNbinsX()):\n",
        "    x += (BkgpSigModel.GetBinContent(j)-DataHisto.GetBinContent(j))**2/DataHisto.GetBinContent(j)\n",
        "\n",
        "  X[i] = x\n",
        "  i += 1\n",
        "\n",
        "plt.plot(miu,X)\n"
      ],
      "execution_count": 0,
      "outputs": []
    },
    {
      "cell_type": "code",
      "metadata": {
        "id": "m6acdA3YFZoG",
        "colab_type": "code",
        "colab": {}
      },
      "source": [
        ""
      ],
      "execution_count": 0,
      "outputs": []
    },
    {
      "cell_type": "markdown",
      "metadata": {
        "id": "hvvbhi3gFZIb",
        "colab_type": "text"
      },
      "source": [
        ""
      ]
    }
  ]
}
