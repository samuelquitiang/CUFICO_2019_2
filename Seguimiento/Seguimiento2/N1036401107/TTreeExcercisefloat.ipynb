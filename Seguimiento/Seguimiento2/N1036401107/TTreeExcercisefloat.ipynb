{
  "nbformat": 4,
  "nbformat_minor": 0,
  "metadata": {
    "colab": {
      "name": "TTreeExcercisefloat.ipynb",
      "provenance": [],
      "collapsed_sections": [],
      "include_colab_link": true
    },
    "kernelspec": {
      "name": "python3",
      "display_name": "Python 3"
    }
  },
  "cells": [
    {
      "cell_type": "markdown",
      "metadata": {
        "id": "view-in-github",
        "colab_type": "text"
      },
      "source": [
        "<a href=\"https://colab.research.google.com/github/elime920/CUFICO_2019_2/blob/master/TTreeExcercisefloat.ipynb\" target=\"_parent\"><img src=\"https://colab.research.google.com/assets/colab-badge.svg\" alt=\"Open In Colab\"/></a>"
      ]
    },
    {
      "cell_type": "markdown",
      "metadata": {
        "id": "l2Kx9iqQ4ToX",
        "colab_type": "text"
      },
      "source": [
        "# With this notebook we will:\n",
        "## 1. Install packages needed for root\n",
        "## 2. Download a binary root that compiled in google drive \"colaboratory\" environement\n",
        "## 3. Modify the PATH in order to tell python where to look for pyROOT\n",
        "## 4. Finally, test ROOT installation with a simple example\n",
        "\n",
        "##### Author: Jose Ruiz\n",
        "##### Maintainer: Jose Ruiz\n",
        "##### Developed at: Universidad de Antioquia\n"
      ]
    },
    {
      "cell_type": "markdown",
      "metadata": {
        "id": "C1gPEaTg6fLl",
        "colab_type": "text"
      },
      "source": [
        "### 1. Install packages needed for root"
      ]
    },
    {
      "cell_type": "code",
      "metadata": {
        "id": "gYEA4UKNplb6",
        "colab_type": "code",
        "outputId": "e1eebf4b-47e5-48c3-b1c0-6cbd986637f2",
        "colab": {
          "base_uri": "https://localhost:8080/",
          "height": 321
        }
      },
      "source": [
        "!apt-get install git dpkg-dev cmake g++ gcc binutils libx11-dev libxpm-dev libxft-dev libxext-dev tar gfortran subversion"
      ],
      "execution_count": 0,
      "outputs": [
        {
          "output_type": "stream",
          "text": [
            "Reading package lists... Done\n",
            "Building dependency tree       \n",
            "Reading state information... Done\n",
            "libxext-dev is already the newest version (2:1.3.3-1).\n",
            "libxft-dev is already the newest version (2.3.2-1).\n",
            "libxpm-dev is already the newest version (1:3.5.12-1).\n",
            "subversion is already the newest version (1.9.7-4ubuntu1).\n",
            "binutils is already the newest version (2.30-21ubuntu1~18.04.2).\n",
            "cmake is already the newest version (3.10.2-1ubuntu2.18.04.1).\n",
            "dpkg-dev is already the newest version (1.19.0.5ubuntu2.3).\n",
            "g++ is already the newest version (4:7.4.0-1ubuntu2.3).\n",
            "gcc is already the newest version (4:7.4.0-1ubuntu2.3).\n",
            "gfortran is already the newest version (4:7.4.0-1ubuntu2.3).\n",
            "git is already the newest version (1:2.17.1-1ubuntu0.4).\n",
            "libx11-dev is already the newest version (2:1.6.4-3ubuntu0.2).\n",
            "tar is already the newest version (1.29b-2ubuntu0.1).\n",
            "0 upgraded, 0 newly installed, 0 to remove and 33 not upgraded.\n"
          ],
          "name": "stdout"
        }
      ]
    },
    {
      "cell_type": "markdown",
      "metadata": {
        "id": "3i5bTy4x601V",
        "colab_type": "text"
      },
      "source": [
        "### 2. Mount the drive to get the root binary and untar it "
      ]
    },
    {
      "cell_type": "code",
      "metadata": {
        "id": "gMhjqJ9noRcX",
        "colab_type": "code",
        "outputId": "49279345-7fcc-40a9-f938-661098758296",
        "colab": {
          "base_uri": "https://localhost:8080/",
          "height": 35
        }
      },
      "source": [
        "# Load the Drive helper and mount\n",
        "from google.colab import drive\n",
        "\n",
        "# This will prompt for authorization.\n",
        "drive.mount('/content/drive', force_remount=True)"
      ],
      "execution_count": 0,
      "outputs": [
        {
          "output_type": "stream",
          "text": [
            "Mounted at /content/drive\n"
          ],
          "name": "stdout"
        }
      ]
    },
    {
      "cell_type": "code",
      "metadata": {
        "id": "dt2PEUjQo0RY",
        "colab_type": "code",
        "outputId": "5c567274-6bd8-482d-a5c4-00fe86c84d13",
        "colab": {
          "base_uri": "https://localhost:8080/",
          "height": 142
        }
      },
      "source": [
        "# After executing the cell above, Drive\n",
        "# files will be present in \"/content/drive/My Drive\".\n",
        "!ls \"/content/drive/Shared drives/PyROOT_in_Google/\""
      ],
      "execution_count": 0,
      "outputs": [
        {
          "output_type": "stream",
          "text": [
            "BasicAnalysis.ipynb\t  HistogrammingInROOT.ipynb\n",
            "BasicPyROOTExample.ipynb  monje-a-lo-bonzo-blanco-y-negro.png\n",
            "Chi2Fitting.ipynb\t  piano-C5.wav\n",
            "Data5.root\t\t  Random2DHistos\n",
            "FFT_imagen.ipynb\t  root_build_google_yikes.tar\n",
            "FFT.ipynb\t\t  TrimmedTree.root\n",
            "FLUTEMI.WAV\t\t  TTreeExcercise.ipynb\n"
          ],
          "name": "stdout"
        }
      ]
    },
    {
      "cell_type": "code",
      "metadata": {
        "id": "tRQGlQ4Hqau9",
        "colab_type": "code",
        "colab": {}
      },
      "source": [
        "!tar -xf /content/drive/Shared\\ drives/PyROOT_in_Google/root_build_google_yikes.tar"
      ],
      "execution_count": 0,
      "outputs": []
    },
    {
      "cell_type": "code",
      "metadata": {
        "id": "DfLQ4DrprjLU",
        "colab_type": "code",
        "outputId": "f1ea7328-36e3-4f2d-e178-36b316baad43",
        "colab": {
          "base_uri": "https://localhost:8080/",
          "height": 88
        }
      },
      "source": [
        "!ls -ltrh"
      ],
      "execution_count": 0,
      "outputs": [
        {
          "output_type": "stream",
          "text": [
            "total 12K\n",
            "drwxr-xr-x 44 root root 4.0K Sep 20  2018 root_build\n",
            "drwxr-xr-x  1 root root 4.0K Nov  6 16:17 sample_data\n",
            "drwx------  4 root root 4.0K Nov  7 22:51 drive\n"
          ],
          "name": "stdout"
        }
      ]
    },
    {
      "cell_type": "markdown",
      "metadata": {
        "id": "1nHFk9y68VVP",
        "colab_type": "text"
      },
      "source": [
        "\n",
        "### 3. Modify the PATH in order to tell python where to look for pyROOT\n"
      ]
    },
    {
      "cell_type": "code",
      "metadata": {
        "id": "N3ndoY6iu6_J",
        "colab_type": "code",
        "colab": {}
      },
      "source": [
        "import sys\n",
        "sys.path.append(\"/content/root_build/\")\n",
        "sys.path.append(\"/content/root_build/bin/\")\n",
        "sys.path.append(\"/content/root_build/include/\")\n",
        "sys.path.append(\"/content/root_build/lib/\")"
      ],
      "execution_count": 0,
      "outputs": []
    },
    {
      "cell_type": "code",
      "metadata": {
        "id": "lTFxGdo6v-vn",
        "colab_type": "code",
        "outputId": "8b89649b-c992-4464-b21c-24f19ec3135e",
        "colab": {
          "base_uri": "https://localhost:8080/",
          "height": 35
        }
      },
      "source": [
        "import ROOT"
      ],
      "execution_count": 0,
      "outputs": [
        {
          "output_type": "stream",
          "text": [
            "Welcome to JupyROOT 6.14/04\n"
          ],
          "name": "stdout"
        }
      ]
    },
    {
      "cell_type": "code",
      "metadata": {
        "id": "37Y0ocYtMbCx",
        "colab_type": "code",
        "colab": {}
      },
      "source": [
        "from array import array"
      ],
      "execution_count": 0,
      "outputs": []
    },
    {
      "cell_type": "code",
      "metadata": {
        "id": "vjAXfvIGaE3W",
        "colab_type": "code",
        "colab": {}
      },
      "source": [
        "MyTree = ROOT.TTree( 'tree1', 'tree para un par de dados' )"
      ],
      "execution_count": 0,
      "outputs": []
    },
    {
      "cell_type": "code",
      "metadata": {
        "id": "sG5v0wEBaeOI",
        "colab_type": "code",
        "colab": {}
      },
      "source": [
        "# Crear un Branch tipo float y llenarlo con un random que utilice de semilla a Dado2.\n",
        "# En este caso el branch tipo float va a ser dado3\n",
        "\n",
        "dado1 = array( 'i', [ 0 ] )\n",
        "dado2 = array( 'i', [ 0 ] )\n",
        "dado3 = array( 'f', [ 0 ] )  # 'f' = variable tipo float"
      ],
      "execution_count": 0,
      "outputs": []
    },
    {
      "cell_type": "code",
      "metadata": {
        "id": "TFR5T97ScgnG",
        "colab_type": "code",
        "outputId": "e906e651-0d86-404f-de7d-757cf51f6d20",
        "colab": {
          "base_uri": "https://localhost:8080/",
          "height": 35
        }
      },
      "source": [
        "MyTree.Branch( 'dado 1', dado1, 'dado1/I' )\n",
        "MyTree.Branch( 'dado 2', dado2, 'dado2/I' )\n",
        "MyTree.Branch( 'dado 3', dado3, 'dado3/F' )  # Creo un branch tipo float"
      ],
      "execution_count": 0,
      "outputs": [
        {
          "output_type": "execute_result",
          "data": {
            "text/plain": [
              "<ROOT.TBranch object (\"dado 3\") at 0x4c56c80>"
            ]
          },
          "metadata": {
            "tags": []
          },
          "execution_count": 13
        }
      ]
    },
    {
      "cell_type": "code",
      "metadata": {
        "id": "qmKR6xLioJOa",
        "colab_type": "code",
        "colab": {}
      },
      "source": [
        "from random import randint\n",
        "from random import seed, random \n",
        "import numpy as np"
      ],
      "execution_count": 0,
      "outputs": []
    },
    {
      "cell_type": "code",
      "metadata": {
        "id": "FKgIQBuJehRQ",
        "colab_type": "code",
        "colab": {}
      },
      "source": [
        "for i in range(1000):\n",
        "  dado1[0] = randint(1,6)\n",
        "  dado2[0] = randint(1,6)\n",
        "  np.random.seed(dado2[0])   # Se le pone como semilla el dado2.\n",
        "  dado3[0] = 6*np.random.random()  # Se generan números aleatorios entre 1 y 6.\n",
        "  MyTree.Fill()"
      ],
      "execution_count": 0,
      "outputs": []
    },
    {
      "cell_type": "code",
      "metadata": {
        "id": "AznEAv9QJX3Q",
        "colab_type": "code",
        "outputId": "ab48e937-b22f-4dd9-f2ee-a5ed124fc24c",
        "colab": {
          "base_uri": "https://localhost:8080/",
          "height": 907
        }
      },
      "source": [
        "c1 = ROOT.TCanvas( 'c1', 'Datos de un Branch tipo float', 200, 10, 700, 900 )\n",
        "c1.SetFillColor( 18 )\n",
        "MyTree.Draw(\"dado3>>H1(5,0,6)\")\n",
        "c1.Update()\n",
        "from ROOT import gROOT \n",
        "gROOT.GetListOfCanvases().Draw()"
      ],
      "execution_count": 0,
      "outputs": [
        {
          "output_type": "stream",
          "text": [
            "Warning in <TCanvas::Constructor>: Deleting canvas with same name: c1\n"
          ],
          "name": "stderr"
        },
        {
          "output_type": "display_data",
          "data": {
            "image/png": "[encoded data removed]",
            "text/plain": [
              "<IPython.core.display.Image object>"
            ]
          },
          "metadata": {
            "tags": []
          }
        }
      ]
    },
    {
      "cell_type": "code",
      "metadata": {
        "id": "RNjN-I32SO0v",
        "colab_type": "code",
        "colab": {}
      },
      "source": [
        ""
      ],
      "execution_count": 0,
      "outputs": []
    }
  ]
}
