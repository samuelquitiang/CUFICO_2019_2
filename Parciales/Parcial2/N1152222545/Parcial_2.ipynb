{
  "nbformat": 4,
  "nbformat_minor": 0,
  "metadata": {
    "colab": {
      "name": "Parcial-2.ipynb",
      "provenance": [],
      "collapsed_sections": [],
      "machine_shape": "hm",
      "include_colab_link": true
    },
    "kernelspec": {
      "name": "python3",
      "display_name": "Python 3"
    }
  },
  "cells": [
    {
      "cell_type": "markdown",
      "metadata": {
        "id": "view-in-github",
        "colab_type": "text"
      },
      "source": [
        "<a href=\"https://colab.research.google.com/github/samuelquitiang/CUFICO_2019_2/blob/master/Parciales/Parcial2/N1152222545/Parcial_2.ipynb\" target=\"_parent\"><img src=\"https://colab.research.google.com/assets/colab-badge.svg\" alt=\"Open In Colab\"/></a>"
      ]
    },
    {
      "cell_type": "markdown",
      "metadata": {
        "id": "l2Kx9iqQ4ToX",
        "colab_type": "text"
      },
      "source": [
        "# With this notebook we will:\n",
        "## 1. Install packages needed for root\n",
        "## 2. Download a binary root that compiled in google drive \"colaboratory\" environement\n",
        "## 3. Modify the PATH in order to tell python where to look for pyROOT\n",
        "## 4. Finally, read a file .root and plot their data in a histogram, creat data following a distribution and try to fit the previous data with it \n",
        "\n",
        "##### Author: Jose Ruiz\n",
        "##### Maintainer: Jose Ruiz\n",
        "##### Developed at: Universidad de Antioquia\n"
      ]
    },
    {
      "cell_type": "markdown",
      "metadata": {
        "id": "C1gPEaTg6fLl",
        "colab_type": "text"
      },
      "source": [
        "### 1. Install packages needed for root"
      ]
    },
    {
      "cell_type": "code",
      "metadata": {
        "id": "gYEA4UKNplb6",
        "colab_type": "code",
        "outputId": "55dd3d2a-25d3-41c3-a077-b2356ad7b065",
        "colab": {
          "base_uri": "https://localhost:8080/",
          "height": 312
        }
      },
      "source": [
        "!apt-get install git dpkg-dev cmake g++ gcc binutils libx11-dev libxpm-dev libxft-dev libxext-dev tar gfortran subversion"
      ],
      "execution_count": 1,
      "outputs": [
        {
          "output_type": "stream",
          "text": [
            "Reading package lists... Done\n",
            "Building dependency tree       \n",
            "Reading state information... Done\n",
            "libxext-dev is already the newest version (2:1.3.3-1).\n",
            "libxft-dev is already the newest version (2.3.2-1).\n",
            "libxpm-dev is already the newest version (1:3.5.12-1).\n",
            "subversion is already the newest version (1.9.7-4ubuntu1).\n",
            "binutils is already the newest version (2.30-21ubuntu1~18.04.2).\n",
            "cmake is already the newest version (3.10.2-1ubuntu2.18.04.1).\n",
            "dpkg-dev is already the newest version (1.19.0.5ubuntu2.3).\n",
            "g++ is already the newest version (4:7.4.0-1ubuntu2.3).\n",
            "gcc is already the newest version (4:7.4.0-1ubuntu2.3).\n",
            "gfortran is already the newest version (4:7.4.0-1ubuntu2.3).\n",
            "git is already the newest version (1:2.17.1-1ubuntu0.4).\n",
            "libx11-dev is already the newest version (2:1.6.4-3ubuntu0.2).\n",
            "tar is already the newest version (1.29b-2ubuntu0.1).\n",
            "0 upgraded, 0 newly installed, 0 to remove and 33 not upgraded.\n"
          ],
          "name": "stdout"
        }
      ]
    },
    {
      "cell_type": "markdown",
      "metadata": {
        "id": "3i5bTy4x601V",
        "colab_type": "text"
      },
      "source": [
        "### 2. Mount the drive to get the root binary and untar it "
      ]
    },
    {
      "cell_type": "code",
      "metadata": {
        "id": "gMhjqJ9noRcX",
        "colab_type": "code",
        "outputId": "c4a41397-a2d9-41e1-c075-2faab2952a2f",
        "colab": {
          "base_uri": "https://localhost:8080/",
          "height": 34
        }
      },
      "source": [
        "# Load the Drive helper and mount\n",
        "from google.colab import drive\n",
        "\n",
        "# This will prompt for authorization.\n",
        "drive.mount('/content/drive', force_remount=True)\n",
        "\n"
      ],
      "execution_count": 2,
      "outputs": [
        {
          "output_type": "stream",
          "text": [
            "Mounted at /content/drive\n"
          ],
          "name": "stdout"
        }
      ]
    },
    {
      "cell_type": "code",
      "metadata": {
        "id": "dt2PEUjQo0RY",
        "colab_type": "code",
        "outputId": "de68d746-4848-4b43-cc7c-f8fbc00635a4",
        "colab": {
          "base_uri": "https://localhost:8080/",
          "height": 173
        }
      },
      "source": [
        "# After executing the cell above, Drive\n",
        "# files will be present in \"/content/drive/My Drive\".\n",
        "!ls \"/content/drive/Shared drives/PyROOT_in_Google/\""
      ],
      "execution_count": 3,
      "outputs": [
        {
          "output_type": "stream",
          "text": [
            "BasicAnalysis.ipynb\t  HistogrammingInROOT.ipynb\n",
            "BasicPyROOTExample.ipynb  monje-a-lo-bonzo-blanco-y-negro.png\n",
            "Chi2Fitting.ipynb\t  piano-C5.wav\n",
            "Data5.root\t\t  Random2DHistos\n",
            "DatosParcial2\t\t  root_build_google_yikes.tar\n",
            "DatosResonancia.root\t  Temporal\n",
            "FFT_imagen.ipynb\t  TrimmedTree.root\n",
            "FFT.ipynb\t\t  TTreeExcercise.ipynb\n",
            "FLUTEMI.WAV\n"
          ],
          "name": "stdout"
        }
      ]
    },
    {
      "cell_type": "code",
      "metadata": {
        "id": "tRQGlQ4Hqau9",
        "colab_type": "code",
        "colab": {}
      },
      "source": [
        "!tar -xf /content/drive/Shared\\ drives/PyROOT_in_Google/root_build_google_yikes.tar"
      ],
      "execution_count": 0,
      "outputs": []
    },
    {
      "cell_type": "code",
      "metadata": {
        "id": "DfLQ4DrprjLU",
        "colab_type": "code",
        "outputId": "612c0543-cebe-4ba9-b721-66701332874e",
        "colab": {
          "base_uri": "https://localhost:8080/",
          "height": 173
        }
      },
      "source": [
        "!ls -ltrh"
      ],
      "execution_count": 5,
      "outputs": [
        {
          "output_type": "stream",
          "text": [
            "total 4.7M\n",
            "drwxr-xr-x 44 root root 4.0K Sep 20  2018 root_build\n",
            "drwxr-xr-x  1 root root 4.0K Nov  6 16:17 sample_data\n",
            "-rw-------  1 root root 952K Nov 18 00:29 Metropolis.txt\n",
            "-rw-------  1 root root 952K Nov 18 00:29 Metropolis1.txt\n",
            "-rw-------  1 root root 952K Nov 18 00:29 Metropolis2.txt\n",
            "-rw-------  1 root root 952K Nov 18 00:29 Metropolis3.txt\n",
            "-rw-------  1 root root 952K Nov 18 00:29 Metropolis4.txt\n",
            "drwx------  4 root root 4.0K Nov 18 04:57 drive\n"
          ],
          "name": "stdout"
        }
      ]
    },
    {
      "cell_type": "markdown",
      "metadata": {
        "id": "1nHFk9y68VVP",
        "colab_type": "text"
      },
      "source": [
        "\n",
        "### 3. Modify the PATH in order to tell python where to look for pyROOT\n"
      ]
    },
    {
      "cell_type": "code",
      "metadata": {
        "id": "N3ndoY6iu6_J",
        "colab_type": "code",
        "colab": {}
      },
      "source": [
        "import sys\n",
        "import numpy as np\n",
        "import scipy.integrate as sc\n",
        "from random import uniform, random\n",
        "from numpy import pi\n",
        "import matplotlib.pyplot as plt\n",
        "import sympy as sp\n",
        "import pandas as pd \n",
        "from mpl_toolkits.mplot3d import Axes3D \n",
        "sys.path.append(\"/content/root_build/\")\n",
        "sys.path.append(\"/content/root_build/bin/\")\n",
        "sys.path.append(\"/content/root_build/include/\")\n",
        "sys.path.append(\"/content/root_build/lib/\")"
      ],
      "execution_count": 0,
      "outputs": []
    },
    {
      "cell_type": "code",
      "metadata": {
        "id": "lTFxGdo6v-vn",
        "colab_type": "code",
        "outputId": "925f3912-1d14-41ed-dbd2-b538da521e5a",
        "colab": {
          "base_uri": "https://localhost:8080/",
          "height": 34
        }
      },
      "source": [
        "import ROOT"
      ],
      "execution_count": 7,
      "outputs": [
        {
          "output_type": "stream",
          "text": [
            "Welcome to JupyROOT 6.14/04\n"
          ],
          "name": "stdout"
        }
      ]
    },
    {
      "cell_type": "markdown",
      "metadata": {
        "id": "KyPPOUKBCUmT",
        "colab_type": "text"
      },
      "source": [
        "### Se implementa el algoritmo de Metropolis"
      ]
    },
    {
      "cell_type": "code",
      "metadata": {
        "id": "vjAXfvIGaE3W",
        "colab_type": "code",
        "colab": {}
      },
      "source": [
        "\n",
        "np.random.seed(0)\n",
        "def P(x,mu,c):\n",
        "  #l=sc.quad(lambda x:np.exp(-x)*np.cos(x*((phi-mu)/c)+2.*x*np.log(x/c)/pi),0,np.inf)\n",
        "  #l=sp.integrate(sp.exp(-x)*sp.cos((x*(phi-mu)/c)+(2.*x*sp.log(x/c)/pi)),(x,0,sp.oo))\n",
        "  #m=pi*c\n",
        "  L=ROOT.TMath.Landau(x,mu,c)\n",
        "  return L\n",
        "def Met(P,k,l,N): \n",
        "  A=[uniform(0.,lim)]   \n",
        "  while len(A) < N:\n",
        "     \n",
        "     phi1 = uniform(0.,lim)\n",
        "     ds = -np.log(P(phi1,k,l)/P(A[-1],k,l))\n",
        "     if ds<0:\n",
        "       A.append(phi1)\n",
        "     elif ds>0:\n",
        "       v=random()\n",
        "       p=P(phi1,k,l)/P(A[-1],k,l)\n",
        "       if v<p:\n",
        "          A.append(phi1)\n",
        "  A=np.array(A)       \n",
        "  return  A \n",
        "   "
      ],
      "execution_count": 0,
      "outputs": []
    },
    {
      "cell_type": "markdown",
      "metadata": {
        "id": "2JAMsAjY2ZPn",
        "colab_type": "text"
      },
      "source": [
        "### 1. Se leen los datos del archivo .root y se grafican en un histograma "
      ]
    },
    {
      "cell_type": "code",
      "metadata": {
        "id": "6mI8eqh9NLLR",
        "colab_type": "code",
        "outputId": "2de7c3b1-803f-47e4-db40-989d2aaeb42d",
        "colab": {
          "base_uri": "https://localhost:8080/",
          "height": 34
        }
      },
      "source": [
        "DataChain=ROOT.TChain(\"SystemTree\")\n",
        "DataChain.Add(\"/content/drive/My Drive/Colab Notebooks/N1152222545.root\")"
      ],
      "execution_count": 9,
      "outputs": [
        {
          "output_type": "execute_result",
          "data": {
            "text/plain": [
              "1"
            ]
          },
          "metadata": {
            "tags": []
          },
          "execution_count": 9
        }
      ]
    },
    {
      "cell_type": "code",
      "metadata": {
        "id": "NRoIGA82NVsI",
        "colab_type": "code",
        "outputId": "d7095edc-c30b-4f44-c4d1-bc4d9325bf3b",
        "colab": {
          "base_uri": "https://localhost:8080/",
          "height": 295
        }
      },
      "source": [
        "Prob = ROOT.TH1F( 'DiMuM1', 'Di-muon mass distribution', 200,0 , 1500 )\n",
        "E=[]\n",
        "for i in DataChain:\n",
        "  E.append(i.x)\n",
        "  Prob.Fill(i.x)\n",
        "  #print(i.x)\n",
        "#plt.plot(E)\n",
        "#print(np.mean(E),np.std(E))\n",
        "h=plt.hist(E,bins='auto',label=[\"Datos dados\"],histtype='step') #variable que se usara para los calculos \n",
        "plt.title('Histograma de datos dados')\n",
        "plt.xlabel('Entradas')\n",
        "plt.ylabel('Repeticiones')\n",
        "plt.legend()\n",
        "plt.xlim(0,1500)\n",
        "plt.show()\n"
      ],
      "execution_count": 10,
      "outputs": [
        {
          "output_type": "display_data",
          "data": {
            "image/png": "[encoded data removed]",
            "text/plain": [
              "<Figure size 432x288 with 1 Axes>"
            ]
          },
          "metadata": {
            "tags": []
          }
        }
      ]
    },
    {
      "cell_type": "code",
      "metadata": {
        "id": "_j1V05PREGw8",
        "colab_type": "code",
        "outputId": "49973975-9f0e-40a0-fd0e-19f0956df2b5",
        "colab": {
          "base_uri": "https://localhost:8080/",
          "height": 1000
        }
      },
      "source": [
        "\n",
        "c1 = ROOT.TCanvas( 'c1', 'The FillRandom example', 200, 10, 700, 900 )\n",
        "c1.SetFillColor( 0 )\n",
        "Prob.Draw()\n",
        "f=ROOT.TF1('f','landau')\n",
        "Prob.Fit(f,'S')\n",
        "c1.Update()\n",
        "ROOT.gROOT.GetListOfCanvases().Draw()"
      ],
      "execution_count": 11,
      "outputs": [
        {
          "output_type": "stream",
          "text": [
            " FCN=223.516 FROM MIGRAD    STATUS=CONVERGED     204 CALLS         205 TOTAL\n",
            "                     EDM=3.43865e-07    STRATEGY= 1  ERROR MATRIX UNCERTAINTY   2.7 per cent\n",
            "  EXT PARAMETER                                   STEP         FIRST   \n",
            "  NO.   NAME      VALUE            ERROR          SIZE      DERIVATIVE \n",
            "   1  Constant     5.92314e+04   3.17597e+02  -4.14942e+00   1.56598e-06\n",
            "   2  MPV          2.19957e+02   7.83581e-02  -2.36696e-04   1.38151e-02\n",
            "   3  Sigma        1.01046e+01   4.08964e-02   1.34337e-05   7.71683e-01\n"
          ],
          "name": "stdout"
        },
        {
          "output_type": "display_data",
          "data": {
            "image/png": "[encoded data removed]",
            "text/plain": [
              "<IPython.core.display.Image object>"
            ]
          },
          "metadata": {
            "tags": []
          }
        }
      ]
    },
    {
      "cell_type": "code",
      "metadata": {
        "id": "MG3ui5o4NnWP",
        "colab_type": "code",
        "outputId": "c6d714be-3638-4911-bb32-281795da7514",
        "colab": {
          "base_uri": "https://localhost:8080/",
          "height": 104
        }
      },
      "source": [
        "print(\"Numero de bins en el histograma: %i\" %(h[0].size))\n",
        "\n",
        "print(np.mean(E),np.std(E))\n",
        "print(len(E))\n",
        "print(max(h[0]))\n",
        "print(h[0].size)\n"
      ],
      "execution_count": 12,
      "outputs": [
        {
          "output_type": "stream",
          "text": [
            "Numero de bins en el histograma: 276084\n",
            "328.6167930463791 2754.35278470391\n",
            "80000\n",
            "3085.0\n",
            "276084\n"
          ],
          "name": "stdout"
        }
      ]
    },
    {
      "cell_type": "markdown",
      "metadata": {
        "id": "YZre7LBQxlC8",
        "colab_type": "text"
      },
      "source": [
        "### 2. Producir distintos datos con el metodo de metropolis para distintos $\\mu$ y $c$ para sacar el CHI2 y ver cual es mejor "
      ]
    },
    {
      "cell_type": "code",
      "metadata": {
        "id": "bTullLLkyaTk",
        "colab_type": "code",
        "outputId": "807f68f5-418b-471e-f571-126312042ea7",
        "colab": {
          "base_uri": "https://localhost:8080/",
          "height": 52
        }
      },
      "source": [
        "C1=[9,10,11,12]\n",
        "MU1=[180,200,220,240]\n",
        "N=len(E)\n",
        "Nbin=h[0].size #Número de bins que se usará\n",
        "lim=3000 #numero maximo para creación de datos \n",
        "DM=[] #datos generados a distintos mu  \n",
        "Hist=[] \n",
        "for i in C1:   \n",
        "  for j in MU1:\n",
        "    DM.append(Met(P,j,i,N))\n",
        "    Hist.append(plt.hist(DM[-1],bins=Nbin-1,label=[str(j)+\"mu_c\"+str(i)],histtype='step'))\n",
        "plt.title(\"Variación de mu y c \")\n",
        "plt.xlim(0,1500)\n",
        "plt.legend()\n",
        "plt.xlabel(\"entrada\")\n",
        "plt.ylabel(\"frecuencia\")\n",
        "plt.show()\n"
      ],
      "execution_count": 0,
      "outputs": [
        {
          "output_type": "stream",
          "text": [
            "/usr/local/lib/python3.6/dist-packages/ipykernel_launcher.py:14: RuntimeWarning: divide by zero encountered in log\n",
            "  \n"
          ],
          "name": "stderr"
        }
      ]
    },
    {
      "cell_type": "markdown",
      "metadata": {
        "id": "OOAkYpteTViM",
        "colab_type": "text"
      },
      "source": [
        "#### 3. Con los conjuntos de datos se saca el $\\chi^2$ respecto a los datos suministrados y posteriormente se grafica  $\\chi^2$ vs $\\mu$ y $\\chi^2$ vs $c$ "
      ]
    },
    {
      "cell_type": "code",
      "metadata": {
        "id": "6PFhvKpOqEVa",
        "colab_type": "code",
        "colab": {}
      },
      "source": [
        "\n",
        "def CHI2(x,y):\n",
        "   chi2=0\n",
        "   N=x.size\n",
        "   for i in range(N):\n",
        "     num=x[i]-y[i]\n",
        "     if x[i] != 0: \n",
        "       chi2 += num**2/x[i]\n",
        "     elif y[i] != 0:\n",
        "       chi2 += num**2/y[i]\n",
        "     assert(x.size==y.size)  \n",
        "   return chi2/N\n",
        "Chi2_1=[]\n",
        "for i in Hist:\n",
        "  Chi2_1.append(CHI2(h[0],i[0]))\n"
      ],
      "execution_count": 0,
      "outputs": []
    },
    {
      "cell_type": "code",
      "metadata": {
        "id": "0DfDkAKTULkC",
        "colab_type": "code",
        "colab": {}
      },
      "source": [
        "plt.figure()\n",
        "plt.plot(MU1,Chi2_1[0:4],label=\"c=9\")\n",
        "plt.plot(MU1,Chi2_1[4:8],label=\"c=10\")\n",
        "plt.plot(MU1,Chi2_1[8:12],label=\"c=11\")\n",
        "plt.plot(MU1,Chi2_1[12:16],label=\"c=12\")\n",
        "plt.title(\"mu vs chi2\")\n",
        "plt.xlabel(\"mu\")\n",
        "plt.ylabel(\"chi2\")\n",
        "plt.legend()\n",
        "\n",
        "plt.figure()\n",
        "plt.plot(C1,Chi2_1[0:13:4],label=\"mu=180\")\n",
        "plt.plot(C1,Chi2_1[1:14:4],label=\"mu=200\")\n",
        "plt.plot(C1,Chi2_1[2:15:4],label=\"mu=220\")\n",
        "plt.plot(C1,Chi2_1[3:16:4],label=\"mu=240\")\n",
        "plt.xlabel(\"c\")\n",
        "plt.ylabel(\"chi2\")\n",
        "plt.title(\"c vs chi2\")\n",
        "plt.legend()"
      ],
      "execution_count": 0,
      "outputs": []
    },
    {
      "cell_type": "code",
      "metadata": {
        "id": "fG6CJVB7l51u",
        "colab_type": "code",
        "colab": {}
      },
      "source": [
        "MuO=[200,207,215,220]\n",
        "CO=[9,9.5,10,10.5]\n",
        "N=len(E)\n",
        "Nbin=h[0].size #Número de bins que se usará\n",
        "lim=2000 #numero maximo para creación de datos \n",
        "DM1=[] #datos generados a distintos mu  \n",
        "Hist1=[] \n",
        "for i in CO:   \n",
        "  for j in MuO:\n",
        "    DM1.append(Met(P,j,i,N))\n",
        "    Hist1.append(plt.hist(DM1[-1],bins=Nbin,label=[str(j)+\"mu_c\"+str(i)],histtype = 'step'))\n",
        "plt.title(\"Variación de mu y c \")\n",
        "plt.hist(E,bins=Nbin,label=\"Datos dados\",histtype='step')\n",
        "plt.xlim(0,1500)\n",
        "plt.legend()\n",
        "plt.xlabel(\"entrada\")\n",
        "plt.ylabel(\"frecuencia\")\n",
        "plt.show()\n"
      ],
      "execution_count": 0,
      "outputs": []
    },
    {
      "cell_type": "code",
      "metadata": {
        "id": "KTv7AXPvxAL4",
        "colab_type": "code",
        "colab": {}
      },
      "source": [
        "Chi2_0=[]\n",
        "for i in Hist1:\n",
        "  Chi2_2.append(CHI2(h[0],i[0]))\n"
      ],
      "execution_count": 0,
      "outputs": []
    },
    {
      "cell_type": "code",
      "metadata": {
        "id": "N5rC-745D6Hy",
        "colab_type": "code",
        "colab": {}
      },
      "source": [
        "plt.figure()\n",
        "plt.plot(MUO,Chi2_0[0:4],label=\"c=9\")\n",
        "plt.plot(MUO,Chi2_0[4:8],label=\"c=9.5\")\n",
        "plt.plot(MUO,Chi2_0[8:12],label=\"c=10\")\n",
        "plt.plot(MUO,Chi2_0[12:16],label=\"c=10.5\")\n",
        "plt.title(\"mu vs chi2\")\n",
        "plt.xlabel(\"mu\")\n",
        "plt.ylabel(\"chi2\")\n",
        "plt.legend()\n",
        "\n",
        "plt.figure()\n",
        "plt.plot(CO,Chi2_0[0:13:4],label=\"mu=200\")\n",
        "plt.plot(CO,Chi2_0[1:14:4],label=\"mu=207\")\n",
        "plt.plot(CO,Chi2_0[2:15:4],label=\"mu=215\")\n",
        "plt.plot(CO,Chi2_0[3:16:4],label=\"mu=220\")\n",
        "plt.xlabel(\"c\")\n",
        "plt.ylabel(\"chi2\")\n",
        "plt.title(\"c vs chi2\")\n",
        "plt.legend()"
      ],
      "execution_count": 0,
      "outputs": []
    },
    {
      "cell_type": "code",
      "metadata": {
        "id": "5OeRvAL5wfLR",
        "colab_type": "code",
        "colab": {}
      },
      "source": [
        "C=[]\n",
        "MU=[]\n",
        "Chi2=[]\n",
        "np.append(C,(C1,C2))\n",
        "np.append(MU,(MU1,MU2))\n",
        "np.append(Chi2,(Chi2_1,Chi2_2))\n",
        "\n",
        "fig=plt.figure()\n",
        "ax=fig.gca(projection='3d')\n",
        "\n",
        "ax.plot(C,MU,Chi2)\n",
        "ax.set_xlabel('c')\n",
        "ax.set_ylabel('Mu')\n",
        "ax.set_zlabel('Chi2')\n",
        "plt.show()"
      ],
      "execution_count": 0,
      "outputs": []
    },
    {
      "cell_type": "code",
      "metadata": {
        "id": "bKBeox65tds_",
        "colab_type": "code",
        "colab": {}
      },
      "source": [
        ""
      ],
      "execution_count": 0,
      "outputs": []
    }
  ]
}